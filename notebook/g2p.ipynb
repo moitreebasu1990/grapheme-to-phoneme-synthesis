{
 "cells": [
  {
   "cell_type": "markdown",
   "metadata": {},
   "source": [
    "# Grapheme-to-Phoneme Conversion with LSTM in Pytorch\n",
    "\n",
    "In this blog post, we will explore a complete implementation of a Grapheme-to-Phoneme (G2P) conversion model using LSTM architecture in PyTorch. This model uses a LSTM based seq-to-seq encoder-decoder architecture with attention mechanism to convert graphemes (written characters) into phonemes (sounds). We'll go through each part of the code in detail, explaining the purpose and functionality of each section."
   ]
  },
  {
   "cell_type": "markdown",
   "metadata": {},
   "source": [
    "## 1. Importing Libraries and Downloading Data"
   ]
  },
  {
   "cell_type": "code",
   "execution_count": 7,
   "metadata": {},
   "outputs": [
    {
     "name": "stderr",
     "output_type": "stream",
     "text": [
      "[nltk_data] Downloading package cmudict to /home/pdeb/nltk_data...\n",
      "[nltk_data]   Package cmudict is already up-to-date!\n"
     ]
    },
    {
     "data": {
      "text/plain": [
       "True"
      ]
     },
     "execution_count": 7,
     "metadata": {},
     "output_type": "execute_result"
    }
   ],
   "source": [
    "import torch\n",
    "import torch.nn as nn\n",
    "from torch.utils.data import Dataset, DataLoader\n",
    "import nltk\n",
    "from nltk.corpus import cmudict\n",
    "import random\n",
    "\n",
    "nltk.download('cmudict')\n"
   ]
  },
  {
   "cell_type": "markdown",
   "metadata": {},
   "source": [
    "We download the CMU Pronouncing Dictionary, which contains mappings from words to their phonetic transcriptions."
   ]
  },
  {
   "cell_type": "markdown",
   "metadata": {},
   "source": [
    "\n",
    "## 2. Loading and Preparing Data\n",
    "\n",
    "We create a list `data` where each element is a tuple containing a word and its phonetic transcription. We limit the dataset to the first 200 entries for simplicity."
   ]
  },
  {
   "cell_type": "code",
   "execution_count": 8,
   "metadata": {},
   "outputs": [
    {
     "name": "stdout",
     "output_type": "stream",
     "text": [
      "20000\n"
     ]
    }
   ],
   "source": [
    "# Load CMUdict\n",
    "cmu = cmudict.dict()\n",
    "\n",
    "# Prepare data\n",
    "data = []\n",
    "for word, pronunciations in cmu.items():\n",
    "    for phones in pronunciations:\n",
    "        data.append((word, ' '.join(phones)))\n",
    "\n",
    "data = data[:20000]\n",
    "print(len(data))\n",
    "\n",
    "torch.manual_seed(42)\n",
    "random.seed(42)"
   ]
  },
  {
   "cell_type": "markdown",
   "metadata": {},
   "source": [
    "## 3. Building Vocabularies\n",
    "\n",
    "We create sets of unique graphemes and phonemes from the data. We also add special tokens (`<pad>`, `<sos>`, `<eos>`) to the vocabularies. Furthermore, we create mappings from characters/phonemes to indices and vice versa."
   ]
  },
  {
   "cell_type": "code",
   "execution_count": 9,
   "metadata": {},
   "outputs": [],
   "source": [
    "# Build vocabularies\n",
    "grapheme_vocab = set(''.join(word for word, _ in data))\n",
    "phoneme_vocab = set(' '.join(phones for _, phones in data).split())\n",
    "\n",
    "grapheme_vocab = ['<pad>', '<sos>', '<eos>'] + list(grapheme_vocab)\n",
    "phoneme_vocab = ['<pad>', '<sos>', '<eos>'] + list(phoneme_vocab)\n",
    "\n",
    "grapheme_vocab_size = len(grapheme_vocab)\n",
    "phoneme_vocab_size = len(phoneme_vocab)\n",
    "\n",
    "grapheme2idx = {char: idx for idx, char in enumerate(grapheme_vocab)}\n",
    "phoneme2idx = {phone: idx for idx, phone in enumerate(phoneme_vocab)}\n",
    "\n",
    "idx2grapheme = {idx: char for idx, char in enumerate(grapheme_vocab)}\n",
    "idx2phoneme = {idx: phone for idx, phone in enumerate(phoneme_vocab)}"
   ]
  },
  {
   "cell_type": "markdown",
   "metadata": {},
   "source": [
    "## 4. Creating the Dataset and DataLoader\n",
    "\n",
    "We define a custom dataset class `G2PDataset` that takes the data, grapheme2idx, and phoneme2idx as inputs. The `__getitem__` method converts the word and phonetic transcription into indices, and the `collate_fn` function pads the sequences in the batch to the maximum length in the batch.\n",
    "\n",
    "we have also added a small test to check if the dataloader is working fine."
   ]
  },
  {
   "cell_type": "code",
   "execution_count": 10,
   "metadata": {},
   "outputs": [
    {
     "name": "stdout",
     "output_type": "stream",
     "text": [
      "Batch 1:\n",
      "Grapheme indices: tensor([[ 1, 21, 34, 27, 39, 33, 39, 34,  2,  0,  0,  0,  0,  0,  0],\n",
      "        [ 1, 21,  7,  7, 39, 30,  3, 19, 11, 30, 21,  5,  2,  0,  0],\n",
      "        [ 1, 26, 21,  5,  7, 19, 39, 33,  2,  0,  0,  0,  0,  0,  0],\n",
      "        [ 1, 21, 26, 39, 38, 11, 19, 26, 27, 16, 19, 15,  5, 39,  2],\n",
      "        [ 1,  3, 10, 38, 38, 21, 33,  7,  2,  0,  0,  0,  0,  0,  0],\n",
      "        [ 1, 21,  3,  7, 38, 33, 10,  7, 39,  2,  0,  0,  0,  0,  0],\n",
      "        [ 1,  3, 21, 33, 33, 15,  7,  2,  0,  0,  0,  0,  0,  0,  0],\n",
      "        [ 1,  3, 10, 26, 31, 39, 38,  7,  2,  0,  0,  0,  0,  0,  0],\n",
      "        [ 1, 21,  5, 38, 21,  8, 16,  5, 15,  7, 30,  7,  2,  0,  0],\n",
      "        [ 1,  3, 16, 19, 15, 38, 27, 16,  2,  0,  0,  0,  0,  0,  0],\n",
      "        [ 1,  3, 19, 10, 33,  7,  2,  0,  0,  0,  0,  0,  0,  0,  0],\n",
      "        [ 1,  3, 39,  7,  2,  0,  0,  0,  0,  0,  0,  0,  0,  0,  0],\n",
      "        [ 1, 21, 33, 21, 33, 21, 38,  2,  0,  0,  0,  0,  0,  0,  0],\n",
      "        [ 1, 21,  3, 10, 34, 33, 21, 27, 30,  2,  0,  0,  0,  0,  0],\n",
      "        [ 1,  3, 33, 39, 15, 38, 19, 15,  5,  8,  2,  0,  0,  0,  0],\n",
      "        [ 1, 26, 21, 19, 15, 13, 13,  2,  0,  0,  0,  0,  0,  0,  0]])\n",
      "Phoneme indices: tensor([[ 1, 52, 70, 34, 62, 50, 70,  2,  0,  0,  0,  0,  0,  0],\n",
      "        [ 1, 45, 46,  3, 19, 31, 63, 40, 19, 16, 53,  2,  0,  0],\n",
      "        [ 1, 38, 30, 53, 46, 63, 39,  2,  0,  0,  0,  0,  0,  0],\n",
      "        [ 1, 45, 46, 26, 49, 45, 63, 38, 11, 63, 40, 53,  2,  0],\n",
      "        [ 1, 31, 28, 49, 39, 10,  2,  0,  0,  0,  0,  0,  0,  0],\n",
      "        [ 1, 45, 31, 46, 49, 50,  8, 46,  2,  0,  0,  0,  0,  0],\n",
      "        [ 1, 31,  3, 50, 20, 46,  2,  0,  0,  0,  0,  0,  0,  0],\n",
      "        [ 1, 31, 28, 38, 45, 49, 46,  2,  0,  0,  0,  0,  0,  0],\n",
      "        [ 1, 52, 53, 49, 30, 17, 45, 53, 44, 10, 45, 19, 10,  2],\n",
      "        [ 1, 31, 14, 63, 62, 37, 45,  2,  0,  0,  0,  0,  0,  0],\n",
      "        [ 1, 31, 63, 69, 10,  2,  0,  0,  0,  0,  0,  0,  0,  0],\n",
      "        [ 1, 31, 36, 10,  2,  0,  0,  0,  0,  0,  0,  0,  0,  0],\n",
      "        [ 1, 30, 50, 45, 50, 43, 49,  2,  0,  0,  0,  0,  0,  0],\n",
      "        [ 1, 45, 31, 28, 70, 50, 45, 19,  2,  0,  0,  0,  0,  0],\n",
      "        [ 1, 31, 50, 42, 49, 63, 20, 15,  2,  0,  0,  0,  0,  0],\n",
      "        [ 1, 38, 30, 63, 20,  7,  2,  0,  0,  0,  0,  0,  0,  0]])\n",
      "Batch 2:\n",
      "Grapheme indices: tensor([[ 1,  3, 33, 16, 24, 16, 12,  7, 31, 15,  2],\n",
      "        [ 1,  3, 16, 13, 16, 33,  7, 23,  7,  2,  0],\n",
      "        [ 1, 26, 21, 19, 38, 39, 14,  2,  0,  0,  0],\n",
      "        [ 1,  3, 19, 10,  5, 26, 31,  2,  0,  0,  0],\n",
      "        [ 1,  3, 33, 21, 10, 34,  2,  0,  0,  0,  0],\n",
      "        [ 1, 21,  3, 21, 38, 39,  7,  2,  0,  0,  0],\n",
      "        [ 1, 26, 21, 11, 12, 16, 16, 34,  2,  0,  0],\n",
      "        [ 1,  3, 16, 24, 39, 19, 19, 23,  7,  2,  0],\n",
      "        [ 1, 21, 30, 21,  7,  7,  2,  0,  0,  0,  0],\n",
      "        [ 1,  3, 16, 16, 31, 16, 10, 38,  2,  0,  0],\n",
      "        [ 1,  3, 33, 21, 34, 39, 30, 21,  7,  2,  0],\n",
      "        [ 1,  3, 39, 27, 16, 19, 34, 15,  5,  8,  2],\n",
      "        [ 1,  3, 39, 27, 19,  2,  0,  0,  0,  0,  0],\n",
      "        [ 1,  3, 10, 38, 38, 15,  5,  8,  2,  0,  0],\n",
      "        [ 1,  3, 10, 33, 31, 27, 21, 33, 34,  2,  0],\n",
      "        [ 1, 21, 39,  8, 39, 21,  5,  2,  0,  0,  0]])\n",
      "Phoneme indices: tensor([[ 1, 31, 50, 45, 10, 59,  7, 46, 38, 40,  2],\n",
      "        [ 1, 31, 11,  7, 39, 10, 20, 10,  2,  0,  0],\n",
      "        [ 1, 38, 28, 63, 49,  3, 38, 46,  2,  0,  0],\n",
      "        [ 1, 31, 63, 28, 15, 38,  2,  0,  0,  0,  0],\n",
      "        [ 1, 31, 50, 59, 70,  2,  0,  0,  0,  0,  0],\n",
      "        [ 1, 45, 31, 51, 49, 46,  2,  0,  0,  0,  0],\n",
      "        [ 1, 38, 51, 29, 66, 70,  2,  0,  0,  0,  0],\n",
      "        [ 1, 31, 14, 10,  3, 63, 10,  2,  0,  0,  0],\n",
      "        [ 1, 45, 19, 30, 46,  2,  0,  0,  0,  0,  0],\n",
      "        [ 1, 31, 68, 38, 13, 49,  2,  0,  0,  0,  0],\n",
      "        [ 1, 31, 50, 45, 70, 51, 19, 45, 46,  2,  0],\n",
      "        [ 1, 31, 20, 34, 11, 63, 70, 20, 15,  2,  0],\n",
      "        [ 1, 31,  3, 63,  2,  0,  0,  0,  0,  0,  0],\n",
      "        [ 1, 31, 28, 49, 20, 15,  2,  0,  0,  0,  0],\n",
      "        [ 1, 31, 69, 38, 34, 39, 70,  2,  0,  0,  0],\n",
      "        [ 1, 20, 55, 36, 45, 53,  2,  0,  0,  0,  0]])\n",
      "\n",
      "Grapheme vocabulary size: 42\n",
      "Phoneme vocabulary size: 72\n"
     ]
    }
   ],
   "source": [
    "class G2PDataset(Dataset):\n",
    "    \"\"\"A custom Dataset for Grapheme-to-Phoneme conversion.\n",
    "\n",
    "    This dataset prepares word-pronunciation pairs for G2P model training.\n",
    "\n",
    "    Args:\n",
    "        data (List[Tuple[str, str]]): List of (word, pronunciation) pairs.\n",
    "        grapheme2idx (Dict[str, int]): Mapping from graphemes to indices.\n",
    "        phoneme2idx (Dict[str, int]): Mapping from phonemes to indices.\n",
    "\n",
    "    Attributes:\n",
    "        data (List[Tuple[str, str]]): The input data.\n",
    "        grapheme2idx (Dict[str, int]): Grapheme to index mapping.\n",
    "        phoneme2idx (Dict[str, int]): Phoneme to index mapping.\n",
    "    \"\"\"\n",
    "\n",
    "    def __init__(self, data, grapheme2idx, phoneme2idx):\n",
    "        self.data = data\n",
    "        self.grapheme2idx = grapheme2idx\n",
    "        self.phoneme2idx = phoneme2idx\n",
    "\n",
    "    def __len__(self):\n",
    "        \"\"\"Returns the number of items in the dataset.\"\"\"\n",
    "        return len(self.data)\n",
    "\n",
    "    def __getitem__(self, idx):\n",
    "        \"\"\"Generates one sample of data.\n",
    "\n",
    "        Args:\n",
    "            idx (int): Index of the sample to fetch.\n",
    "\n",
    "        Returns:\n",
    "            Tuple[torch.Tensor, torch.Tensor]: A tuple containing:\n",
    "                - Tensor of grapheme indices.\n",
    "                - Tensor of phoneme indices.\n",
    "        \"\"\"\n",
    "        word, phones = self.data[idx]\n",
    "        grapheme_indices = [self.grapheme2idx['<sos>']] + [self.grapheme2idx[char] for char in word] + [self.grapheme2idx['<eos>']]\n",
    "        phoneme_indices = [self.phoneme2idx['<sos>']] + [self.phoneme2idx[phone] for phone in phones.split()] + [self.phoneme2idx['<eos>']]\n",
    "        return torch.tensor(grapheme_indices, dtype=torch.long), torch.tensor(phoneme_indices, dtype=torch.long)\n",
    "\n",
    "def collate_fn(batch):\n",
    "    \"\"\"Collate function for DataLoader.\n",
    "\n",
    "    This function pads sequences in a batch to the maximum length.\n",
    "\n",
    "    Args:\n",
    "        batch (List[Tuple[torch.Tensor, torch.Tensor]]): A list of tuples containing grapheme and phoneme tensors.\n",
    "\n",
    "    Returns:\n",
    "        Tuple[torch.Tensor, torch.Tensor]: A tuple containing:\n",
    "            - Padded grapheme tensor of shape (batch_size, max_grapheme_len).\n",
    "            - Padded phoneme tensor of shape (batch_size, max_phoneme_len).\n",
    "    \"\"\"\n",
    "    grapheme_batch, phoneme_batch = zip(*batch)\n",
    "    \n",
    "    # Find the maximum sequence length in the batch\n",
    "    grapheme_max_len = max(len(grapheme) for grapheme in grapheme_batch)\n",
    "    phoneme_max_len = max(len(phoneme) for phoneme in phoneme_batch)\n",
    "    \n",
    "    # Pad sequences in the batch\n",
    "    grapheme_padded = [torch.cat([grapheme, torch.full((grapheme_max_len - len(grapheme),), grapheme2idx['<pad>'], dtype=torch.long)]) for grapheme in grapheme_batch]\n",
    "    phoneme_padded = [torch.cat([phoneme, torch.full((phoneme_max_len - len(phoneme),), phoneme2idx['<pad>'], dtype=torch.long)]) for phoneme in phoneme_batch]\n",
    "\n",
    "    return torch.stack(grapheme_padded), torch.stack(phoneme_padded)\n",
    "\n",
    "# Create dataset and dataloader with custom collate_fn\n",
    "dataset = G2PDataset(data, grapheme2idx, phoneme2idx)\n",
    "dataloader = DataLoader(dataset, batch_size=16, shuffle=True, collate_fn=collate_fn)\n",
    "\n",
    "# Test dataloader\n",
    "for batch_idx, (graphemes, phonemes) in enumerate(dataloader):\n",
    "    print(f\"Batch {batch_idx + 1}:\")\n",
    "    print(\"Grapheme indices:\", graphemes)\n",
    "    print(\"Phoneme indices:\", phonemes)\n",
    "    if batch_idx == 1:  # Print only first two batches\n",
    "        break\n",
    "\n",
    "# Print vocabulary sizes\n",
    "print(f\"\\nGrapheme vocabulary size: {grapheme_vocab_size}\")\n",
    "print(f\"Phoneme vocabulary size: {phoneme_vocab_size}\")"
   ]
  },
  {
   "cell_type": "markdown",
   "metadata": {},
   "source": [
    "\n",
    "## 5. Defining the Model\n",
    "\n",
    "We define the encoder, attention mechanism, decoder, and the entire G2P model. We also set the hyperparameters for the model.\n",
    "\n",
    "The `encoder` is a simple LSTM that takes the input grapheme indices and returns the output features, final hidden state, and cell state.\n",
    "\n",
    "The `attention mechanism` calculates the attention weights based on the current hidden state of the decoder and all hidden states of the encoder.\n",
    "\n",
    "The `decoder` is another LSTM that takes the input phoneme index, current hidden state, cell state, and all hidden states of the encoder. It returns the output prediction, updated hidden state, cell state, and attention weights.\n",
    "\n",
    "Finally, the `G2P model` combines the `encoder`, `decoder`, and `attention mechanism` to produce the output predictions and attention weights.\n",
    "\n",
    "We set the hyperparameters for the model, including the input and output sizes, embedding size, hidden size, number of layers, and dropout rate.\n"
   ]
  },
  {
   "cell_type": "code",
   "execution_count": 11,
   "metadata": {},
   "outputs": [],
   "source": [
    "class Encoder(nn.Module):\n",
    "    \"\"\"Encoder module for the Grapheme-to-Phoneme model.\n",
    "\n",
    "    Args:\n",
    "        input_size (int): Size of the input vocabulary.\n",
    "        embedding_size (int): Size of the embedding layer.\n",
    "        hidden_size (int): Number of features in the hidden state.\n",
    "        num_layers (int): Number of recurrent layers.\n",
    "        dropout (float): Dropout rate.\n",
    "\n",
    "    Attributes:\n",
    "        hidden_size (int): Number of features in the hidden state.\n",
    "        num_layers (int): Number of recurrent layers.\n",
    "        embedding (nn.Embedding): Embedding layer.\n",
    "        lstm (nn.LSTM): LSTM layer.\n",
    "        dropout (nn.Dropout): Dropout layer.\n",
    "    \"\"\"\n",
    "\n",
    "    def __init__(self, input_size, embedding_size, hidden_size, num_layers, dropout):\n",
    "        super(Encoder, self).__init__()\n",
    "        self.hidden_size = hidden_size\n",
    "        self.num_layers = num_layers\n",
    "\n",
    "        self.embedding = nn.Embedding(input_size, embedding_size)\n",
    "        self.lstm = nn.LSTM(embedding_size, hidden_size, num_layers, dropout=dropout, batch_first=True)\n",
    "        self.dropout = nn.Dropout(dropout)\n",
    "\n",
    "    def forward(self, x):\n",
    "        \"\"\"Forward pass of the encoder.\n",
    "\n",
    "        Args:\n",
    "            x (torch.Tensor): Input tensor of shape (batch_size, seq_len).\n",
    "\n",
    "        Returns:\n",
    "            tuple: A tuple containing:\n",
    "                - outputs (torch.Tensor): Output features from the LSTM.\n",
    "                - hidden (torch.Tensor): Final hidden state of the LSTM.\n",
    "                - cell (torch.Tensor): Final cell state of the LSTM.\n",
    "        \"\"\"\n",
    "        embedded = self.dropout(self.embedding(x))\n",
    "        outputs, (hidden, cell) = self.lstm(embedded)\n",
    "        return outputs, hidden, cell\n",
    "\n",
    "class Attention(nn.Module):\n",
    "    \"\"\"Attention mechanism for the Grapheme-to-Phoneme model.\n",
    "\n",
    "    Args:\n",
    "        hidden_size (int): Number of features in the hidden state.\n",
    "\n",
    "    Attributes:\n",
    "        hidden_size (int): Number of features in the hidden state.\n",
    "        attn (nn.Linear): Linear layer for attention calculation.\n",
    "        v (nn.Linear): Linear layer for attention weights.\n",
    "    \"\"\"\n",
    "\n",
    "    def __init__(self, hidden_size):\n",
    "        super(Attention, self).__init__()\n",
    "        self.hidden_size = hidden_size\n",
    "        self.attn = nn.Linear(hidden_size * 2, hidden_size)\n",
    "        self.v = nn.Linear(hidden_size, 1, bias=False)\n",
    "\n",
    "    def forward(self, hidden, encoder_outputs):\n",
    "        \"\"\"Forward pass of the attention mechanism.\n",
    "\n",
    "        Args:\n",
    "            hidden (torch.Tensor): Current hidden state of the decoder.\n",
    "            encoder_outputs (torch.Tensor): All hidden states of the encoder.\n",
    "\n",
    "        Returns:\n",
    "            torch.Tensor: Attention weights.\n",
    "        \"\"\"\n",
    "        batch_size = encoder_outputs.shape[0]\n",
    "        seq_len = encoder_outputs.shape[1]\n",
    "\n",
    "        hidden = hidden.repeat(seq_len, 1, 1).transpose(0, 1)\n",
    "        energy = torch.tanh(self.attn(torch.cat((hidden, encoder_outputs), dim=2)))\n",
    "        attention = self.v(energy).squeeze(2)\n",
    "        return torch.softmax(attention, dim=1)\n",
    "\n",
    "class Decoder(nn.Module):\n",
    "    \"\"\"Decoder module for the Grapheme-to-Phoneme model.\n",
    "\n",
    "    Args:\n",
    "        output_size (int): Size of the output vocabulary.\n",
    "        embedding_size (int): Size of the embedding layer.\n",
    "        hidden_size (int): Number of features in the hidden state.\n",
    "        num_layers (int): Number of recurrent layers.\n",
    "        dropout (float): Dropout rate.\n",
    "\n",
    "    Attributes:\n",
    "        output_size (int): Size of the output vocabulary.\n",
    "        hidden_size (int): Number of features in the hidden state.\n",
    "        num_layers (int): Number of recurrent layers.\n",
    "        embedding (nn.Embedding): Embedding layer.\n",
    "        lstm (nn.LSTM): LSTM layer.\n",
    "        fc (nn.Linear): Fully connected layer for output prediction.\n",
    "        dropout (nn.Dropout): Dropout layer.\n",
    "        attention (Attention): Attention mechanism.\n",
    "    \"\"\"\n",
    "\n",
    "    def __init__(self, output_size, embedding_size, hidden_size, num_layers, dropout):\n",
    "        super(Decoder, self).__init__()\n",
    "        self.output_size = output_size\n",
    "        self.hidden_size = hidden_size\n",
    "        self.num_layers = num_layers\n",
    "\n",
    "        self.embedding = nn.Embedding(output_size, embedding_size)\n",
    "        self.lstm = nn.LSTM(hidden_size + embedding_size, hidden_size, num_layers, dropout=dropout, batch_first=True)\n",
    "        self.fc = nn.Linear(hidden_size * 2, output_size)\n",
    "        self.dropout = nn.Dropout(dropout)\n",
    "        self.attention = Attention(hidden_size)\n",
    "\n",
    "    def forward(self, x, hidden, cell, encoder_outputs):\n",
    "        \"\"\"Forward pass of the decoder.\n",
    "\n",
    "        Args:\n",
    "            x (torch.Tensor): Input tensor (current target token).\n",
    "            hidden (torch.Tensor): Current hidden state.\n",
    "            cell (torch.Tensor): Current cell state.\n",
    "            encoder_outputs (torch.Tensor): All hidden states of the encoder.\n",
    "\n",
    "        Returns:\n",
    "            tuple: A tuple containing:\n",
    "                - prediction (torch.Tensor): Output prediction.\n",
    "                - hidden (torch.Tensor): Updated hidden state.\n",
    "                - cell (torch.Tensor): Updated cell state.\n",
    "                - attention_weights (torch.Tensor): Attention weights.\n",
    "        \"\"\"\n",
    "        x = x.unsqueeze(1)\n",
    "        embedded = self.dropout(self.embedding(x))\n",
    "\n",
    "        attention_weights = self.attention(hidden[-1], encoder_outputs)\n",
    "        context_vector = torch.bmm(attention_weights.unsqueeze(1), encoder_outputs)\n",
    "\n",
    "        lstm_input = torch.cat((embedded, context_vector), dim=2)\n",
    "        output, (hidden, cell) = self.lstm(lstm_input, (hidden, cell))\n",
    "\n",
    "        prediction = self.fc(torch.cat((output.squeeze(1), context_vector.squeeze(1)), dim=1))\n",
    "        return prediction, hidden, cell, attention_weights\n",
    "\n",
    "class G2P(nn.Module):\n",
    "    \"\"\"Grapheme-to-Phoneme (G2P) model.\n",
    "\n",
    "    Args:\n",
    "        encoder (Encoder): Encoder module.\n",
    "        decoder (Decoder): Decoder module.\n",
    "        device (torch.device): Device to run the model on.\n",
    "\n",
    "    Attributes:\n",
    "        encoder (Encoder): Encoder module.\n",
    "        decoder (Decoder): Decoder module.\n",
    "        device (torch.device): Device to run the model on.\n",
    "    \"\"\"\n",
    "\n",
    "    def __init__(self, encoder, decoder, device):\n",
    "        super(G2P, self).__init__()\n",
    "        self.encoder = encoder\n",
    "        self.decoder = decoder\n",
    "        self.device = device\n",
    "\n",
    "    def forward(self, source, target, teacher_force_ratio=0.5):\n",
    "        \"\"\"Forward pass of the G2P model.\n",
    "\n",
    "        Args:\n",
    "            source (torch.Tensor): Source sequence (graphemes).\n",
    "            target (torch.Tensor): Target sequence (phonemes).\n",
    "            teacher_force_ratio (float, optional): Probability of using teacher forcing. Defaults to 0.5.\n",
    "\n",
    "        Returns:\n",
    "            tuple: A tuple containing:\n",
    "                - outputs (torch.Tensor): Output predictions for each time step.\n",
    "                - attention_weights (torch.Tensor): Attention weights for each time step.\n",
    "        \"\"\"\n",
    "        batch_size = source.shape[0]\n",
    "        target_len = target.shape[1]\n",
    "        target_vocab_size = self.decoder.output_size\n",
    "\n",
    "        outputs = torch.zeros(batch_size, target_len, target_vocab_size).to(self.device)\n",
    "        attention_weights = torch.zeros(batch_size, target_len, source.shape[1]).to(self.device)\n",
    "\n",
    "        encoder_outputs, hidden, cell = self.encoder(source)\n",
    "\n",
    "        x = target[:, 0]\n",
    "        for t in range(1, target_len):\n",
    "            output, hidden, cell, attn_weights = self.decoder(x, hidden, cell, encoder_outputs)\n",
    "            outputs[:, t] = output\n",
    "            attention_weights[:, t] = attn_weights\n",
    "\n",
    "            teacher_force = random.random() < teacher_force_ratio\n",
    "            top1 = output.argmax(1)\n",
    "            x = target[:, t] if teacher_force else top1\n",
    "\n",
    "        return outputs, attention_weights\n",
    "\n",
    "# Hyperparameters\n",
    "input_size = len(grapheme_vocab)\n",
    "output_size = len(phoneme_vocab)\n",
    "embedding_size = 128\n",
    "hidden_size = 256\n",
    "num_layers = 2\n",
    "dropout = 0.2\n",
    "learning_rate = 0.001\n",
    "num_epochs = 30\n",
    "\n",
    "# Initialize model\n",
    "encoder = Encoder(input_size, embedding_size, hidden_size, num_layers, dropout)\n",
    "decoder = Decoder(output_size, embedding_size, hidden_size, num_layers, dropout)\n",
    "device = torch.device('cuda' if torch.cuda.is_available() else 'cpu')\n",
    "model = G2P(encoder, decoder, device).to(device)\n",
    "\n",
    "# Loss and optimizer\n",
    "criterion = nn.CrossEntropyLoss(ignore_index=phoneme2idx['<pad>'])\n",
    "optimizer = torch.optim.Adam(model.parameters(), lr=learning_rate)"
   ]
  },
  {
   "cell_type": "markdown",
   "metadata": {},
   "source": [
    "## 6. Training the Model\n",
    "\n",
    "We define the training loop where we iterate over the dataset for a specified number of epochs defined by `num_epochs` in the hyperparamters defined above. \n",
    "For each epoch, we calculate the loss for each batch and update the model parameters using the optimizer.\n",
    "\n",
    "We also clip the gradients to prevent exploding gradients."
   ]
  },
  {
   "cell_type": "code",
   "execution_count": 15,
   "metadata": {
    "scrolled": true
   },
   "outputs": [
    {
     "name": "stderr",
     "output_type": "stream",
     "text": [
      "100%|███████████████████████████████████████████████████████████████████████████████████████████████| 1250/1250 [00:49<00:00, 25.32it/s]\n"
     ]
    },
    {
     "name": "stdout",
     "output_type": "stream",
     "text": [
      "Epoch [1/30], Loss: 0.4820\n"
     ]
    },
    {
     "name": "stderr",
     "output_type": "stream",
     "text": [
      "100%|███████████████████████████████████████████████████████████████████████████████████████████████| 1250/1250 [00:47<00:00, 26.13it/s]\n"
     ]
    },
    {
     "name": "stdout",
     "output_type": "stream",
     "text": [
      "Epoch [2/30], Loss: 0.4195\n"
     ]
    },
    {
     "name": "stderr",
     "output_type": "stream",
     "text": [
      "100%|███████████████████████████████████████████████████████████████████████████████████████████████| 1250/1250 [00:50<00:00, 24.86it/s]\n"
     ]
    },
    {
     "name": "stdout",
     "output_type": "stream",
     "text": [
      "Epoch [3/30], Loss: 0.3719\n"
     ]
    },
    {
     "name": "stderr",
     "output_type": "stream",
     "text": [
      "100%|███████████████████████████████████████████████████████████████████████████████████████████████| 1250/1250 [00:50<00:00, 24.98it/s]\n"
     ]
    },
    {
     "name": "stdout",
     "output_type": "stream",
     "text": [
      "Epoch [4/30], Loss: 0.3356\n"
     ]
    },
    {
     "name": "stderr",
     "output_type": "stream",
     "text": [
      "100%|███████████████████████████████████████████████████████████████████████████████████████████████| 1250/1250 [00:49<00:00, 25.01it/s]\n"
     ]
    },
    {
     "name": "stdout",
     "output_type": "stream",
     "text": [
      "Epoch [5/30], Loss: 0.3027\n"
     ]
    },
    {
     "name": "stderr",
     "output_type": "stream",
     "text": [
      "100%|███████████████████████████████████████████████████████████████████████████████████████████████| 1250/1250 [00:47<00:00, 26.59it/s]\n"
     ]
    },
    {
     "name": "stdout",
     "output_type": "stream",
     "text": [
      "Epoch [6/30], Loss: 0.2771\n"
     ]
    },
    {
     "name": "stderr",
     "output_type": "stream",
     "text": [
      "100%|███████████████████████████████████████████████████████████████████████████████████████████████| 1250/1250 [00:46<00:00, 26.64it/s]\n"
     ]
    },
    {
     "name": "stdout",
     "output_type": "stream",
     "text": [
      "Epoch [7/30], Loss: 0.2541\n"
     ]
    },
    {
     "name": "stderr",
     "output_type": "stream",
     "text": [
      "100%|███████████████████████████████████████████████████████████████████████████████████████████████| 1250/1250 [00:48<00:00, 25.55it/s]\n"
     ]
    },
    {
     "name": "stdout",
     "output_type": "stream",
     "text": [
      "Epoch [8/30], Loss: 0.2356\n"
     ]
    },
    {
     "name": "stderr",
     "output_type": "stream",
     "text": [
      "100%|███████████████████████████████████████████████████████████████████████████████████████████████| 1250/1250 [00:39<00:00, 31.47it/s]\n"
     ]
    },
    {
     "name": "stdout",
     "output_type": "stream",
     "text": [
      "Epoch [9/30], Loss: 0.2171\n"
     ]
    },
    {
     "name": "stderr",
     "output_type": "stream",
     "text": [
      "100%|███████████████████████████████████████████████████████████████████████████████████████████████| 1250/1250 [00:42<00:00, 29.34it/s]\n"
     ]
    },
    {
     "name": "stdout",
     "output_type": "stream",
     "text": [
      "Epoch [10/30], Loss: 0.2053\n"
     ]
    },
    {
     "name": "stderr",
     "output_type": "stream",
     "text": [
      "100%|███████████████████████████████████████████████████████████████████████████████████████████████| 1250/1250 [00:44<00:00, 28.37it/s]\n"
     ]
    },
    {
     "name": "stdout",
     "output_type": "stream",
     "text": [
      "Epoch [11/30], Loss: 0.1902\n"
     ]
    },
    {
     "name": "stderr",
     "output_type": "stream",
     "text": [
      "100%|███████████████████████████████████████████████████████████████████████████████████████████████| 1250/1250 [00:51<00:00, 24.43it/s]\n"
     ]
    },
    {
     "name": "stdout",
     "output_type": "stream",
     "text": [
      "Epoch [12/30], Loss: 0.1747\n"
     ]
    },
    {
     "name": "stderr",
     "output_type": "stream",
     "text": [
      "100%|███████████████████████████████████████████████████████████████████████████████████████████████| 1250/1250 [00:42<00:00, 29.28it/s]\n"
     ]
    },
    {
     "name": "stdout",
     "output_type": "stream",
     "text": [
      "Epoch [13/30], Loss: 0.1728\n"
     ]
    },
    {
     "name": "stderr",
     "output_type": "stream",
     "text": [
      "100%|███████████████████████████████████████████████████████████████████████████████████████████████| 1250/1250 [00:44<00:00, 27.96it/s]\n"
     ]
    },
    {
     "name": "stdout",
     "output_type": "stream",
     "text": [
      "Epoch [14/30], Loss: 0.1631\n"
     ]
    },
    {
     "name": "stderr",
     "output_type": "stream",
     "text": [
      "100%|███████████████████████████████████████████████████████████████████████████████████████████████| 1250/1250 [00:43<00:00, 28.70it/s]\n"
     ]
    },
    {
     "name": "stdout",
     "output_type": "stream",
     "text": [
      "Epoch [15/30], Loss: 0.1582\n"
     ]
    },
    {
     "name": "stderr",
     "output_type": "stream",
     "text": [
      "100%|███████████████████████████████████████████████████████████████████████████████████████████████| 1250/1250 [00:45<00:00, 27.28it/s]\n"
     ]
    },
    {
     "name": "stdout",
     "output_type": "stream",
     "text": [
      "Epoch [16/30], Loss: 0.1482\n"
     ]
    },
    {
     "name": "stderr",
     "output_type": "stream",
     "text": [
      "100%|███████████████████████████████████████████████████████████████████████████████████████████████| 1250/1250 [00:46<00:00, 27.11it/s]\n"
     ]
    },
    {
     "name": "stdout",
     "output_type": "stream",
     "text": [
      "Epoch [17/30], Loss: 0.1435\n"
     ]
    },
    {
     "name": "stderr",
     "output_type": "stream",
     "text": [
      "100%|███████████████████████████████████████████████████████████████████████████████████████████████| 1250/1250 [00:50<00:00, 24.63it/s]\n"
     ]
    },
    {
     "name": "stdout",
     "output_type": "stream",
     "text": [
      "Epoch [18/30], Loss: 0.1408\n"
     ]
    },
    {
     "name": "stderr",
     "output_type": "stream",
     "text": [
      "100%|███████████████████████████████████████████████████████████████████████████████████████████████| 1250/1250 [00:46<00:00, 26.83it/s]\n"
     ]
    },
    {
     "name": "stdout",
     "output_type": "stream",
     "text": [
      "Epoch [19/30], Loss: 0.1328\n"
     ]
    },
    {
     "name": "stderr",
     "output_type": "stream",
     "text": [
      "100%|███████████████████████████████████████████████████████████████████████████████████████████████| 1250/1250 [00:42<00:00, 29.15it/s]\n"
     ]
    },
    {
     "name": "stdout",
     "output_type": "stream",
     "text": [
      "Epoch [20/30], Loss: 0.1289\n"
     ]
    },
    {
     "name": "stderr",
     "output_type": "stream",
     "text": [
      "100%|███████████████████████████████████████████████████████████████████████████████████████████████| 1250/1250 [00:46<00:00, 26.94it/s]\n"
     ]
    },
    {
     "name": "stdout",
     "output_type": "stream",
     "text": [
      "Epoch [21/30], Loss: 0.1323\n"
     ]
    },
    {
     "name": "stderr",
     "output_type": "stream",
     "text": [
      "100%|███████████████████████████████████████████████████████████████████████████████████████████████| 1250/1250 [00:49<00:00, 25.20it/s]\n"
     ]
    },
    {
     "name": "stdout",
     "output_type": "stream",
     "text": [
      "Epoch [22/30], Loss: 0.1219\n"
     ]
    },
    {
     "name": "stderr",
     "output_type": "stream",
     "text": [
      "100%|███████████████████████████████████████████████████████████████████████████████████████████████| 1250/1250 [00:49<00:00, 25.02it/s]\n"
     ]
    },
    {
     "name": "stdout",
     "output_type": "stream",
     "text": [
      "Epoch [23/30], Loss: 0.1207\n"
     ]
    },
    {
     "name": "stderr",
     "output_type": "stream",
     "text": [
      "100%|███████████████████████████████████████████████████████████████████████████████████████████████| 1250/1250 [00:48<00:00, 25.57it/s]\n"
     ]
    },
    {
     "name": "stdout",
     "output_type": "stream",
     "text": [
      "Epoch [24/30], Loss: 0.1182\n"
     ]
    },
    {
     "name": "stderr",
     "output_type": "stream",
     "text": [
      "100%|███████████████████████████████████████████████████████████████████████████████████████████████| 1250/1250 [00:46<00:00, 26.89it/s]\n"
     ]
    },
    {
     "name": "stdout",
     "output_type": "stream",
     "text": [
      "Epoch [25/30], Loss: 0.1215\n"
     ]
    },
    {
     "name": "stderr",
     "output_type": "stream",
     "text": [
      "100%|███████████████████████████████████████████████████████████████████████████████████████████████| 1250/1250 [00:46<00:00, 27.13it/s]\n"
     ]
    },
    {
     "name": "stdout",
     "output_type": "stream",
     "text": [
      "Epoch [26/30], Loss: 0.1145\n"
     ]
    },
    {
     "name": "stderr",
     "output_type": "stream",
     "text": [
      "100%|███████████████████████████████████████████████████████████████████████████████████████████████| 1250/1250 [00:48<00:00, 26.03it/s]\n"
     ]
    },
    {
     "name": "stdout",
     "output_type": "stream",
     "text": [
      "Epoch [27/30], Loss: 0.1128\n"
     ]
    },
    {
     "name": "stderr",
     "output_type": "stream",
     "text": [
      "100%|███████████████████████████████████████████████████████████████████████████████████████████████| 1250/1250 [00:46<00:00, 26.67it/s]\n"
     ]
    },
    {
     "name": "stdout",
     "output_type": "stream",
     "text": [
      "Epoch [28/30], Loss: 0.1110\n"
     ]
    },
    {
     "name": "stderr",
     "output_type": "stream",
     "text": [
      "100%|███████████████████████████████████████████████████████████████████████████████████████████████| 1250/1250 [00:50<00:00, 24.70it/s]\n"
     ]
    },
    {
     "name": "stdout",
     "output_type": "stream",
     "text": [
      "Epoch [29/30], Loss: 0.1104\n"
     ]
    },
    {
     "name": "stderr",
     "output_type": "stream",
     "text": [
      "100%|███████████████████████████████████████████████████████████████████████████████████████████████| 1250/1250 [00:46<00:00, 26.70it/s]"
     ]
    },
    {
     "name": "stdout",
     "output_type": "stream",
     "text": [
      "Epoch [30/30], Loss: 0.1109\n",
      "Training completed!\n"
     ]
    },
    {
     "name": "stderr",
     "output_type": "stream",
     "text": [
      "\n"
     ]
    }
   ],
   "source": [
    "from tqdm import tqdm\n",
    "\n",
    "for epoch in range(num_epochs):\n",
    "    model.train()\n",
    "    total_loss = 0\n",
    "\n",
    "    for batch_idx, (src, tgt) in enumerate(tqdm(dataloader)):\n",
    "        src = src.to(device)\n",
    "        tgt = tgt.to(device)\n",
    "\n",
    "        optimizer.zero_grad()\n",
    "        output, _ = model(src, tgt)\n",
    "\n",
    "        output = output[:, 1:].reshape(-1, output.shape[2])\n",
    "        tgt = tgt[:, 1:].reshape(-1)\n",
    "\n",
    "        loss = criterion(output, tgt)\n",
    "        loss.backward()\n",
    "        torch.nn.utils.clip_grad_norm_(model.parameters(), max_norm=1)\n",
    "        optimizer.step()\n",
    "\n",
    "        total_loss += loss.item()\n",
    "\n",
    "    avg_loss = total_loss / len(dataloader)\n",
    "    print(f\"Epoch [{epoch+1}/{num_epochs}], Loss: {avg_loss:.4f}\")\n",
    "\n",
    "print(\"Training completed!\")"
   ]
  },
  {
   "cell_type": "markdown",
   "metadata": {},
   "source": [
    "## 7. Testing the Model and Visualizing Attention\n",
    "\n",
    "We define a module `g2p_convert` to convert a word into its phonetic transcription using the trained model. \n",
    "This function takes the model, the word, and the mappings between indices and graphemes/phonemes. It returns the predicted phonemes and the attention weights.\n",
    "\n",
    "We also add a module `plot_attention` to visualize the attention weights. This helps us understand the attention mechanism and how it focuses on different parts of the input sequence when generating the output sequence.\n"
   ]
  },
  {
   "cell_type": "code",
   "execution_count": 17,
   "metadata": {},
   "outputs": [],
   "source": [
    "!pip install -Uqq seaborn"
   ]
  },
  {
   "cell_type": "code",
   "execution_count": 26,
   "metadata": {},
   "outputs": [
    {
     "name": "stdout",
     "output_type": "stream",
     "text": [
      "Input word: archivist\n",
      "Phonemes: AA1 R K AH0 V IH0 S T\n"
     ]
    },
    {
     "data": {
      "image/png": "[encoded data removed]",
      "text/plain": [
       "<Figure size 1000x1000 with 1 Axes>"
      ]
     },
     "metadata": {},
     "output_type": "display_data"
    }
   ],
   "source": [
    "import matplotlib.pyplot as plt\n",
    "import seaborn as sns\n",
    "import numpy as np\n",
    "\n",
    "def g2p_convert(model, word, grapheme2idx, idx2phoneme, phoneme2idx, device, max_length=50):\n",
    "    model.eval()\n",
    "    \n",
    "    graphemes = ['<sos>'] + list(word.lower()) + ['<eos>']\n",
    "    grapheme_indices = [grapheme2idx.get(char, grapheme2idx['<sos>']) for char in graphemes]\n",
    "    grapheme_tensor = torch.LongTensor(grapheme_indices).unsqueeze(0).to(device)\n",
    "\n",
    "    with torch.no_grad():\n",
    "        encoder_outputs, hidden, cell = model.encoder(grapheme_tensor)\n",
    "\n",
    "    outputs = []\n",
    "    attentions = []\n",
    "    x = torch.tensor([phoneme2idx['<sos>']]).to(device)\n",
    "\n",
    "    for _ in range(max_length):\n",
    "        output, hidden, cell, attn_weights = model.decoder(x, hidden, cell, encoder_outputs)\n",
    "        \n",
    "        predicted = output.argmax(1)\n",
    "        \n",
    "        if predicted.item() == phoneme2idx['<eos>']:\n",
    "            break\n",
    "\n",
    "        outputs.append(predicted.item())\n",
    "        attentions.append(attn_weights.squeeze(0).cpu().detach().numpy())\n",
    "        x = predicted\n",
    "\n",
    "    phonemes = [idx2phoneme[idx] for idx in outputs]\n",
    "    return ' '.join(phonemes), np.array(attentions)\n",
    "\n",
    "def plot_attention(word, phonemes, attention):\n",
    "    fig, ax = plt.subplots(figsize=(10, 10))\n",
    "\n",
    "    # Prepare input and output tokens\n",
    "    input_tokens = list(word.lower())\n",
    "    output_tokens = phonemes.split()\n",
    "\n",
    "    # Ensure attention has the correct shape (target_length x source_length)\n",
    "    attention = attention[:len(output_tokens), :len(input_tokens)]\n",
    "\n",
    "    # Plot attention heatmap\n",
    "    sns.heatmap(attention, cmap='YlGnBu', ax=ax, cbar=False)\n",
    "\n",
    "    # Manually set the tick positions to match the tokens\n",
    "    ax.set_xticks(np.arange(len(input_tokens)))\n",
    "    ax.set_yticks(np.arange(len(output_tokens)))\n",
    "\n",
    "    # Set the tick labels to the tokens\n",
    "    ax.set_xticklabels(input_tokens, rotation=90)\n",
    "    ax.set_yticklabels(output_tokens, rotation=0)\n",
    "\n",
    "    ax.set_xlabel('Graphemes')\n",
    "    ax.set_ylabel('Phonemes')\n",
    "    ax.set_title('Attention Weights')\n",
    "\n",
    "    plt.tight_layout()\n",
    "    plt.show()\n",
    "\n",
    "# Example test (assuming model and vocab are defined and on appropriate device)\n",
    "test_word = \"archivist\"\n",
    "phonemes, attentions = g2p_convert(model, test_word, grapheme2idx, idx2phoneme, phoneme2idx, device)\n",
    "\n",
    "print(f\"Input word: {test_word}\")\n",
    "print(f\"Phonemes: {phonemes}\")\n",
    "\n",
    "plot_attention(test_word, phonemes, attentions)"
   ]
  },
  {
   "cell_type": "code",
   "execution_count": null,
   "metadata": {},
   "outputs": [],
   "source": []
  }
 ],
 "metadata": {
  "kernelspec": {
   "display_name": "dl",
   "language": "python",
   "name": "python3"
  },
  "language_info": {
   "codemirror_mode": {
    "name": "ipython",
    "version": 3
   },
   "file_extension": ".py",
   "mimetype": "text/x-python",
   "name": "python",
   "nbconvert_exporter": "python",
   "pygments_lexer": "ipython3",
   "version": "3.10.15"
  }
 },
 "nbformat": 4,
 "nbformat_minor": 4
}
